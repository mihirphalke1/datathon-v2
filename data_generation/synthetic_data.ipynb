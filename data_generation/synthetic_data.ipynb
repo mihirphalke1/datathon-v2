{
 "cells": [
  {
   "cell_type": "code",
   "execution_count": 1,
   "metadata": {},
   "outputs": [
    {
     "name": "stdout",
     "output_type": "stream",
     "text": [
      "Merged dataset saved successfully as 'merged_train.csv' with 10000 rows.\n"
     ]
    }
   ],
   "source": [
    "import pandas as pd\n",
    "import numpy as np\n",
    "\n",
    "# Load the original dataset\n",
    "df = pd.read_csv(\"../data/train.csv\")  # Change the filename accordingly\n",
    "\n",
    "# Ensure dataset has exactly 10,000 rows\n",
    "df = df.sample(n=10000, random_state=42) if len(df) > 10000 else df\n",
    "\n",
    "# Feature Engineering\n",
    "df[\"Avg_Weekly_Viewing_Hours\"] = df[\"ViewingHoursPerWeek\"] / 7\n",
    "df[\"High_Content_Downloads\"] = df[\"ContentDownloadsPerMonth\"].apply(lambda x: 1 if x > 10 else 0)\n",
    "df[\"Avg_Support_Tickets\"] = df[\"SupportTicketsPerMonth\"] / 4  # Weekly tickets\n",
    "df[\"Prime_Membership\"] = df[\"SubscriptionType\"].apply(lambda x: 1 if \"Prime\" in x else 0)\n",
    "df[\"Late_Payments\"] = df[\"PaymentMethod\"].apply(lambda x: np.random.randint(0, 3) if x == \"Credit Card\" else 0)\n",
    "df[\"Subscription_Cancelled\"] = np.random.choice([0, 1], size=len(df), p=[0.85, 0.15])  # 15% churn simulation\n",
    "df[\"Negative_Feedback\"] = np.random.randint(0, 10, size=len(df))  # Fake feedback counts\n",
    "df[\"Support_Interactions\"] = df[\"SupportTicketsPerMonth\"] + np.random.randint(0, 3, size=len(df))\n",
    "df[\"Avg_Resolution_Time\"] = np.random.randint(1, 24, size=len(df))  # Resolution time in hours\n",
    "df[\"Email_CTR\"] = np.random.uniform(0.01, 0.2, size=len(df))  # Click-through rate\n",
    "\n",
    "df[\"Search_Frequency\"] = np.random.randint(0, 15, size=len(df))  # Number of searches per week\n",
    "df[\"Exit_Without_Watching\"] = np.random.randint(0, 10, size=len(df))  # Number of exits without watching\n",
    "df[\"Recommendation_Engagement\"] = np.random.choice([0, 1], size=len(df), p=[0.6, 0.4])  # 40% engage with recommendations\n",
    "\n",
    "# Binge-Watching Patterns\n",
    "df[\"Binge_Watcher\"] = np.where(df[\"ViewingHoursPerWeek\"] / df[\"Avg_Weekly_Viewing_Hours\"] > 1.5, 1, 0)\n",
    "\n",
    "# Skipped Content & Abandoned Shows\n",
    "df[\"Abandoned_Shows\"] = np.random.randint(0, 5, size=len(df))  # Shows started but not completed\n",
    "df[\"Skipped_Content_Percentage\"] = np.random.uniform(0, 50, size=len(df))  # % of content skipped\n",
    "\n",
    "# Ad-Interaction (For Ad-Supported Plans)\n",
    "df[\"Ad_Skipped\"] = np.random.randint(0, 5, size=len(df))  # Number of ads skipped\n",
    "df[\"Ad_Engagement\"] = np.random.choice([0, 1], size=len(df), p=[0.7, 0.3])  # 30% interact with ads\n",
    "\n",
    "# Financial & Pricing Factors\n",
    "df[\"Refund_Requests\"] = np.random.randint(0, 3, size=len(df))  # Number of refund requests\n",
    "df[\"Downgraded_Plan\"] = np.random.choice([0, 1], size=len(df), p=[0.85, 0.15])  # 15% users downgraded their plan\n",
    "df[\"Auto_Renewal_Off\"] = np.random.choice([0, 1], size=len(df), p=[0.8, 0.2])  # 20% users have auto-renewal turned off\n",
    "\n",
    "# Competitor Influence & External Factors\n",
    "df[\"Uses_Competitor_Platforms\"] = np.random.choice([0, 1], size=len(df), p=[0.7, 0.3])  # 30% users also use Netflix, etc.\n",
    "df[\"Internet_Speed_MBPS\"] = np.random.randint(5, 200, size=len(df))  # Internet speed in Mbps\n",
    "df[\"Primary_Device\"] = np.random.choice([\"Mobile\", \"Laptop\", \"Smart TV\", \"Tablet\"], size=len(df))  # Primary streaming device\n",
    "\n",
    "# Drop unnecessary columns\n",
    "df.drop(columns=[\"CustomerID\"], inplace=True, errors=\"ignore\")\n",
    "\n",
    "# Save the merged dataset\n",
    "df.to_csv(\"../data/merged_train.csv\", index=False)\n",
    "\n",
    "print(f\"Merged dataset saved successfully as 'merged_train.csv' with {len(df)} rows.\")"
   ]
  }
 ],
 "metadata": {
  "kernelspec": {
   "display_name": "Python 3",
   "language": "python",
   "name": "python3"
  },
  "language_info": {
   "codemirror_mode": {
    "name": "ipython",
    "version": 3
   },
   "file_extension": ".py",
   "mimetype": "text/x-python",
   "name": "python",
   "nbconvert_exporter": "python",
   "pygments_lexer": "ipython3",
   "version": "3.9.6"
  }
 },
 "nbformat": 4,
 "nbformat_minor": 2
}
